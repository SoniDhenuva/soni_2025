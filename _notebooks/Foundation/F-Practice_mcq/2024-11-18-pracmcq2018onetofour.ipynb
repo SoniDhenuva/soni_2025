{
 "cells": [
  {
   "cell_type": "markdown",
   "metadata": {
    "vscode": {
     "languageId": "raw"
    }
   },
   "source": [
    "---\n",
    "layout: post\n",
    "title: Home\n",
    "description: Wrong Questions 1-4\n",
    "permalink: /2018mcq/pages/14\n",
    "type: ccc\n",
    "author: Soni Dhenuva\n",
    "menu: nav/practicemcq2018.html\n",
    "---"
   ]
  },
  {
   "cell_type": "markdown",
   "metadata": {
    "vscode": {
     "languageId": "html"
    }
   },
   "source": [
    "![q1](https://github.com/user-attachments/assets/deec6a5d-da14-433b-8008-653252c2b845)\n",
    "<br>\n",
    "Correction: This option is incorrect. This code segment will set One word, ticket Price to 17 for all purchasers between the ages of 12 and 60, regardless of whether or not the movie is 3-D.\n",
    "<br>\n",
    "![q2](https://github.com/user-attachments/assets/e8786c22-f797-46d0-9b6e-33a04b31274b)\n",
    "<br>\n",
    "![q2a](https://github.com/user-attachments/assets/f26673df-07b7-4a87-8c3a-5268797332df)\n",
    "<br>\n",
    "Correction: This option is incorrect. The code segment selects \"Red\" one-sixth of the time, \"Yellow\" one-sixth of the time, and \"Blue\" the remaining two-thirds of the time.\n",
    "<br>\n",
    "![q3](https://github.com/user-attachments/assets/48ca5313-59c5-436b-8d6a-73fe63ce9b67)\n",
    "<br>\n",
    "Correction: This option is incorrect. The date an e-book was published is an example of descriptive metadata that would help support the search\n",
    "feature.\n",
    "![q4](https://github.com/user-attachments/assets/8e92d608-57c1-4e1b-8fe5-afa08ec679c3)\n",
    "<br>\n",
    "Correction: This option is incorrect. This code segment moves the robot up and down between its initial location and the square above its initial location.\n"
   ]
  }
 ],
 "metadata": {
  "language_info": {
   "name": "python"
  }
 },
 "nbformat": 4,
 "nbformat_minor": 2
}
