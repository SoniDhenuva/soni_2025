{
 "cells": [
  {
   "cell_type": "markdown",
   "metadata": {
    "vscode": {
     "languageId": "raw"
    }
   },
   "source": [
    "---\n",
    "layout: post\n",
    "title: Home\n",
    "description: Wrong Questions 1-4\n",
    "permalink: /2018mcq/pages/14\n",
    "type: ccc\n",
    "author: Soni Dhenuva\n",
    "menu: nav/practicemcq2018.html\n",
    "---"
   ]
  },
  {
   "cell_type": "markdown",
   "metadata": {
    "vscode": {
     "languageId": "html"
    }
   },
   "source": [
    "![q1](https://github.com/user-attachments/assets/deec6a5d-da14-433b-8008-653252c2b845)\n",
    "![q2](https://github.com/user-attachments/assets/e8786c22-f797-46d0-9b6e-33a04b31274b)\n",
    "![q2a](https://github.com/user-attachments/assets/f26673df-07b7-4a87-8c3a-5268797332df)\n",
    "![q3](https://github.com/user-attachments/assets/48ca5313-59c5-436b-8d6a-73fe63ce9b67)\n",
    "![q4](https://github.com/user-attachments/assets/8e92d608-57c1-4e1b-8fe5-afa08ec679c3)\n"
   ]
  }
 ],
 "metadata": {
  "language_info": {
   "name": "python"
  }
 },
 "nbformat": 4,
 "nbformat_minor": 2
}
