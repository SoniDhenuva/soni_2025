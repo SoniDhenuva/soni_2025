{
 "cells": [
  {
   "cell_type": "markdown",
   "metadata": {
    "vscode": {
     "languageId": "raw"
    }
   },
   "source": [
    "---\n",
    "layout: post\n",
    "title: Home\n",
    "description: This is how the 2018 practice MCQ went\n",
    "permalink: /2018mcq/pages/home\n",
    "type: ccc\n",
    "author: Soni Dhenuva\n",
    "menu: nav/practicemcq2018.html\n",
    "---"
   ]
  },
  {
   "cell_type": "markdown",
   "metadata": {},
   "source": [
    "# Score and Reflection\n",
    "<br>\n",
    "<br>\n",
    "Score: 50/66\n",
    "<br>\n",
    "\n",
    "### What you learned from quiz?\n",
    "- I learned a lot about my strengths and weakness taking this quiz. Over the my years of coding i relized that understanding the code itself and what it was doing wasnt too hard, but some knowlegde of general concepts of bytes, data storage, cloud servers and cyber knowledge was lacking.\n",
    "\n",
    "<br>\n",
    "<br>\n",
    "\n",
    "### What type of questions do you feel you are week on?\n",
    "- I feel that is truglled an tend to guess on the general concepts of bytes, data storage, cloud servers and cyber knowledge was lacking. But i felt comfortable undertsanding basic functions of what the code is doing.\n"
   ]
  }
 ],
 "metadata": {
  "language_info": {
   "name": "python"
  }
 },
 "nbformat": 4,
 "nbformat_minor": 2
}
