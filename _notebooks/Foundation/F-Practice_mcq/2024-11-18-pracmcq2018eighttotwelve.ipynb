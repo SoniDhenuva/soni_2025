{
 "cells": [
  {
   "cell_type": "markdown",
   "metadata": {
    "vscode": {
     "languageId": "raw"
    }
   },
   "source": [
    "---\n",
    "layout: post\n",
    "title: Home\n",
    "description: Wrong Questions 9-12\n",
    "permalink: /2018mcq/pages/912\n",
    "type: ccc\n",
    "author: Soni Dhenuva\n",
    "menu: nav/practicemcq2018.html\n",
    "---"
   ]
  },
  {
   "cell_type": "markdown",
   "metadata": {
    "vscode": {
     "languageId": "html"
    }
   },
   "source": [
    "![q9](https://github.com/user-attachments/assets/65947e5e-d053-4a3b-85a5-627cf6decc8d)\n",
    "![q10](https://github.com/user-attachments/assets/10e01e72-dc77-4499-93d9-6677ccb5edb1)\n",
    "![q11](https://github.com/user-attachments/assets/50f07fc2-5b2b-457b-9ca0-53586dfc9ca6)\n",
    "![q12](https://github.com/user-attachments/assets/fcccd97c-465b-4781-958a-14df3857f17d)"
   ]
  }
 ],
 "metadata": {
  "language_info": {
   "name": "python"
  }
 },
 "nbformat": 4,
 "nbformat_minor": 2
}
