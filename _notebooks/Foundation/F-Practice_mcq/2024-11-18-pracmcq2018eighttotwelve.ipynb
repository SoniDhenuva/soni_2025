{
 "cells": [
  {
   "cell_type": "markdown",
   "metadata": {
    "vscode": {
     "languageId": "raw"
    }
   },
   "source": [
    "---\n",
    "layout: post\n",
    "title: Home\n",
    "description: Wrong Questions 9-12\n",
    "permalink: /2018mcq/pages/912\n",
    "type: ccc\n",
    "author: Soni Dhenuva\n",
    "menu: nav/practicemcq2018.html\n",
    "---"
   ]
  },
  {
   "cell_type": "markdown",
   "metadata": {
    "vscode": {
     "languageId": "html"
    }
   },
   "source": [
    "![q9](https://github.com/user-attachments/assets/65947e5e-d053-4a3b-85a5-627cf6decc8d)\n",
    "<br>\n",
    "Correction: This option is incorrect. The expression Open parenthesis, NOT P, close parenthesis, and, open parenthesis, NOT Q, close parenthesis  evaluates to false when P and Q differ in value. A NANDgate should only evaluate to false when both inputs are  true.\n",
    "<br>\n",
    "![q10](https://github.com/user-attachments/assets/10e01e72-dc77-4499-93d9-6677ccb5edb1)\n",
    "<br>\n",
    "Correction: This option is incorrect. It is not possible to create an algorithm to solve an undecidable problem for all programs and inputs.\n",
    "<br>\n",
    "![q11](https://github.com/user-attachments/assets/50f07fc2-5b2b-457b-9ca0-53586dfc9ca6)\n",
    "<br>\n",
    "Correction: This option is incorrect. This system does not encrypt messages, it only hides them in a secret location.\n",
    "<br>\n",
    "![q12](https://github.com/user-attachments/assets/fcccd97c-465b-4781-958a-14df3857f17d)\n",
    "<br>\n",
    "Correction: This option is incorrect. The Polynomial procedure calculates the sum of the Square and Cube procedures, but does not generalize their functionality to calculate any power of n.\n",
    "<br>"
   ]
  }
 ],
 "metadata": {
  "language_info": {
   "name": "python"
  }
 },
 "nbformat": 4,
 "nbformat_minor": 2
}
