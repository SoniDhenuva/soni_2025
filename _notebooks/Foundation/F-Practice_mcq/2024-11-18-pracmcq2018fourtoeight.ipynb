{
 "cells": [
  {
   "cell_type": "markdown",
   "metadata": {
    "vscode": {
     "languageId": "raw"
    }
   },
   "source": [
    "---\n",
    "layout: post\n",
    "title: Home\n",
    "description: Wrong Questions 5-8\n",
    "permalink: /2018mcq/pages/58\n",
    "type: ccc\n",
    "author: Soni Dhenuva\n",
    "menu: nav/practicemcq2018.html\n",
    "---"
   ]
  },
  {
   "cell_type": "markdown",
   "metadata": {
    "vscode": {
     "languageId": "html"
    }
   },
   "source": [
    "![q5](https://github.com/user-attachments/assets/c8a9eff9-735f-4a6e-bb0c-8f55ff257d3d)\n",
    "![q6](https://github.com/user-attachments/assets/f893741e-b788-4300-9a05-c17192e9ffa3)\n",
    "![q7](https://github.com/user-attachments/assets/c3f84ae1-b241-4c15-8330-c294958ff29b)\n",
    "![q8](https://github.com/user-attachments/assets/bfbdf179-604f-49aa-8e6e-187c2299556c)"
   ]
  }
 ],
 "metadata": {
  "language_info": {
   "name": "python"
  }
 },
 "nbformat": 4,
 "nbformat_minor": 2
}
