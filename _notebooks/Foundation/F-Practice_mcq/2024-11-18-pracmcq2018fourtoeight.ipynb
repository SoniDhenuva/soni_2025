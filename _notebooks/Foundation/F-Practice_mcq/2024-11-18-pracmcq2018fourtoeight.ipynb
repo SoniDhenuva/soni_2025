{
 "cells": [
  {
   "cell_type": "markdown",
   "metadata": {
    "vscode": {
     "languageId": "raw"
    }
   },
   "source": [
    "---\n",
    "layout: post\n",
    "title: Home\n",
    "description: Wrong Questions 4-8\n",
    "permalink: /2018mcq/pages/48\n",
    "type: ccc\n",
    "author: Soni Dhenuva\n",
    "menu: nav/practicemcq2018.html\n",
    "---"
   ]
  }
 ],
 "metadata": {
  "language_info": {
   "name": "python"
  }
 },
 "nbformat": 4,
 "nbformat_minor": 2
}
