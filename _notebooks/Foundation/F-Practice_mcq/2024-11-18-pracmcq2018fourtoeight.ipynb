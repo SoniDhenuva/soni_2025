{
 "cells": [
  {
   "cell_type": "markdown",
   "metadata": {
    "vscode": {
     "languageId": "raw"
    }
   },
   "source": [
    "---\n",
    "layout: post\n",
    "title: Home\n",
    "description: Wrong Questions 5-8\n",
    "permalink: /2018mcq/pages/58\n",
    "type: ccc\n",
    "author: Soni Dhenuva\n",
    "menu: nav/practicemcq2018.html\n",
    "---"
   ]
  },
  {
   "cell_type": "markdown",
   "metadata": {
    "vscode": {
     "languageId": "html"
    }
   },
   "source": [
    "![q5](https://github.com/user-attachments/assets/c8a9eff9-735f-4a6e-bb0c-8f55ff257d3d)\n",
    "<br>\n",
    "Correction: This option is incorrect. Using 6 bits will only allow for up to 64 characters open parenthesis, 2 raised to the sixth power equals 64, close parenthesis.\n",
    "<br>\n",
    "![q6](https://github.com/user-attachments/assets/f893741e-b788-4300-9a05-c17192e9ffa3)\n",
    "<br>\n",
    "Correction: This option is incorrect. With these inputs, the AND gate will produce an output of false and the first OR gate will produce an output\n",
    "of true. The second OR gate will have one false input and one true input, causing the circuit to have an output of true.\n",
    "<br>\n",
    "![q7](https://github.com/user-attachments/assets/c3f84ae1-b241-4c15-8330-c294958ff29b)\n",
    "<br>\n",
    "Correction: This option is incorrect. This approximation assumes that the  Analysis procedure is called only once.\n",
    "<br>\n",
    "![q8](https://github.com/user-attachments/assets/bfbdf179-604f-49aa-8e6e-187c2299556c)\n",
    "<br>\n",
    "Correction: This option is incorrect. IPv6 has 2 raised to the ninety sixth power times as many possible addresses as IPv4.\n",
    "<br>"
   ]
  }
 ],
 "metadata": {
  "language_info": {
   "name": "python"
  }
 },
 "nbformat": 4,
 "nbformat_minor": 2
}
