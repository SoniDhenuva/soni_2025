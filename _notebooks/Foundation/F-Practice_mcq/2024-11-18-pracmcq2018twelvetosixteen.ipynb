{
 "cells": [
  {
   "cell_type": "markdown",
   "metadata": {
    "vscode": {
     "languageId": "raw"
    }
   },
   "source": [
    "---\n",
    "layout: post\n",
    "title: Home\n",
    "description: Wrong Questions 13-16\n",
    "permalink: /2018mcq/pages/1316\n",
    "type: ccc\n",
    "author: Soni Dhenuva\n",
    "menu: nav/practicemcq2018.html\n",
    "---"
   ]
  },
  {
   "cell_type": "markdown",
   "metadata": {
    "vscode": {
     "languageId": "html"
    }
   },
   "source": [
    "![q13](https://github.com/user-attachments/assets/1e22b730-9cef-4231-be65-64a753304380)\n",
    "![q14](https://github.com/user-attachments/assets/0d1c0ba1-5ff4-486a-85a8-b0cbbada3568)\n",
    "![q15](https://github.com/user-attachments/assets/46c20078-ad0c-42ce-ac67-b4e3a40e87fb)\n",
    "![q16](https://github.com/user-attachments/assets/6af586c2-9a48-48f2-a45e-5e08797490f9)"
   ]
  }
 ],
 "metadata": {
  "language_info": {
   "name": "python"
  }
 },
 "nbformat": 4,
 "nbformat_minor": 2
}
