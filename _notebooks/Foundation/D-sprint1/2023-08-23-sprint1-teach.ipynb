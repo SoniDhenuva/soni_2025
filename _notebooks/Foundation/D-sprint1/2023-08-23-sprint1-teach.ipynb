{
 "cells": [
  {
   "cell_type": "markdown",
   "metadata": {
    "vscode": {
     "languageId": "raw"
    }
   },
   "source": [
    "---\n",
    "layout: post\n",
    "title: Teach\n",
    "description: Python to JSON conversion\n",
    "permalink: /sprint1/pages/teach\n",
    "type: ccc\n",
    "author: Soni Dhenuva\n",
    "menu: nav/Sprint1.html\n",
    "---"
   ]
  },
  {
   "cell_type": "markdown",
   "metadata": {},
   "source": [
    "# Python to JSON conversion\n",
    "<br>\n",
    "<br>\n",
    "<br>\n",
    "\n",
    "## Why is it necessary to convert Python code into JSON?\n",
    "<br>\n",
    "<br>\n",
    "\n",
    "### Cross-Platform Compatibility\n",
    "- JSON (JavaScript Object Notation) is a lightweight, text-based data format that is widely used across different platforms and programming languages. By converting Python data structures (such as dictionaries and lists) into JSON, you can easily share data between Python applications and systems written in other languages like JavaScript, Java, C++, or even mobile apps.\n",
    "<br>\n",
    "<br>\n",
    "\n",
    "### Data Transfer\n",
    "- JSON is compact and human-readable, making it suitable for transferring data over the internet (e.g., through RESTful APIs). By converting Python data into JSON, you ensure that the data can be transmitted efficiently between servers, applications, or browsers.\n",
    "<br>\n",
    "<br>"
   ]
  },
  {
   "cell_type": "markdown",
   "metadata": {},
   "source": [
    "### Converting Python list to JSON\n",
    "<br>\n",
    "<br>"
   ]
  },
  {
   "cell_type": "code",
   "execution_count": null,
   "metadata": {},
   "outputs": [],
   "source": [
    "import json\n",
    "\n",
    "# Python list\n",
    "data = [\"apple\", \"banana\", \"cherry\"]\n",
    "\n",
    "# Convert list to JSON\n",
    "json_data = json.dumps(data)\n",
    "print(json_data)  # Output: [\"apple\", \"banana\", \"cherry\"]"
   ]
  },
  {
   "cell_type": "markdown",
   "metadata": {},
   "source": [
    "<br>\n",
    "\n",
    "### Converting Python Dictionary To JSON\n",
    "<br>\n",
    "<br>"
   ]
  },
  {
   "cell_type": "code",
   "execution_count": null,
   "metadata": {},
   "outputs": [],
   "source": [
    "import json # you will need to import this library\n",
    "\n",
    "# python dictionary\n",
    "x = {\n",
    "  \"name\": \"Soni\",\n",
    "  \"age\": 15,\n",
    "  \"city\": \"San Diego\"\n",
    "}\n",
    "\n",
    "# convert into JSON\n",
    "# we first CALL the library and use the dumps() function\n",
    "# to call the library and use dumps(), we do json.dumps()\n",
    "\n",
    "# note: do you know of function machines in math? where you put in the variable, it does some operations, and outputs it?\n",
    "#       a code function is the same! it takes some data, does some code on it, and outputs it!\n",
    "\n",
    "\n",
    "# essentially, we say \"Hey! JSON library! I would like to use your dumps() function!\"\n",
    "# and then we give the function what we want to dump: \"Here is the thing I want to dump into JSON!\"\n",
    "# then the library says back \"Here you go! Here's your JSON! I stored it in the y variable!\"\n",
    "y = json.dumps(x) \n",
    "\n",
    "\n",
    "print(y) # the result is a JSON string\n"
   ]
  },
  {
   "cell_type": "markdown",
   "metadata": {},
   "source": [
    "<br>\n",
    "\n",
    "### Converting Python Tuple To JSON\n",
    "<br>\n",
    "<br>"
   ]
  },
  {
   "cell_type": "code",
   "execution_count": null,
   "metadata": {},
   "outputs": [],
   "source": [
    "import json\n",
    "\n",
    "# Python tuple\n",
    "coordinates = (10, 20)\n",
    "\n",
    "# Convert tuple to JSON\n",
    "json_coordinates = json.dumps(coordinates)\n",
    "print(json_coordinates)  # Output: [10, 20]\n"
   ]
  },
  {
   "cell_type": "markdown",
   "metadata": {},
   "source": [
    "<br>\n",
    "\n",
    "### Converting Python Set To JSON\n",
    "<br>\n",
    "<br>"
   ]
  },
  {
   "cell_type": "code",
   "execution_count": null,
   "metadata": {},
   "outputs": [],
   "source": [
    "import json\n",
    "\n",
    "# Python set\n",
    "fruits = {\"apple\", \"banana\", \"cherry\"}\n",
    "\n",
    "# Convert set to JSON by first converting it to a list\n",
    "json_fruits = json.dumps(list(fruits))\n",
    "print(json_fruits)  # Output: [\"banana\", \"apple\", \"cherry\"] (order may vary)\n"
   ]
  },
  {
   "cell_type": "markdown",
   "metadata": {},
   "source": [
    "<br>\n",
    "\n",
    "### Converting Python Boolean, None, and other types To JSON\n",
    "<br>\n",
    "<br>"
   ]
  },
  {
   "cell_type": "code",
   "execution_count": null,
   "metadata": {},
   "outputs": [],
   "source": [
    "import json\n",
    "\n",
    "# Python data with booleans and None\n",
    "data = {\n",
    "    \"isActive\": True,\n",
    "    \"count\": None\n",
    "}\n",
    "\n",
    "# Convert to JSON\n",
    "json_data = json.dumps(data)\n",
    "print(json_data)  # Output: {\"isActive\": true, \"count\": null}\n"
   ]
  },
  {
   "cell_type": "markdown",
   "metadata": {},
   "source": [
    "<br>\n",
    "\n",
    "### Formating The Code\n",
    "<br>\n",
    "<br>"
   ]
  },
  {
   "cell_type": "code",
   "execution_count": null,
   "metadata": {},
   "outputs": [],
   "source": [
    "# the result above isn't easy to read. let's fix that by formatting!\n",
    "\n",
    "import json\n",
    "\n",
    "x = {\n",
    "  \"name\": \"John\",\n",
    "  \"age\": 30,\n",
    "  \"city\": \"New York\"\n",
    "}\n",
    "\n",
    "print(\"Indent\")\n",
    "y = json.dumps(x, indent=4) # we call the function but say \"Please indent it for me!\"\n",
    "print(y + \"\\n\") # the \"\\n\" is a newline seperator and adds a space between each print statement\n",
    "\n",
    "print(\"Indent + seperator\")\n",
    "y = json.dumps(x, indent=4, separators=(\".\", \" = \")) # we change the seperator\n",
    "print(y + \"\\n\")\n",
    "\n",
    "print(\"Indent + seperator + sorted\")\n",
    "y = json.dumps(x, indent=4, separators=(\".\", \" = \"), sort_keys=True) # now we are sorting them\n",
    "print(y)\n"
   ]
  },
  {
   "cell_type": "markdown",
   "metadata": {},
   "source": [
    "<br>\n",
    "\n",
    "### Hack #3\n",
    "- Try to create a mix of list and dictionaries to represent a real world collection of data\n",
    "- The system i created is a Library System\n",
    "<br>\n",
    "<br>"
   ]
  },
  {
   "cell_type": "code",
   "execution_count": null,
   "metadata": {},
   "outputs": [],
   "source": [
    "# List of dictionaries representing books in a library\n",
    "library = [\n",
    "    {\n",
    "        \"title\": \"The Six of Crow\",\n",
    "        \"author\": \"Leigh Bardugo\",\n",
    "        \"genre\": \"Fantasy\",\n",
    "        \"copies_available\": 2,\n",
    "        \"borrowers\": [\n",
    "            {\"name\": \"Katherine Chen\", \"borrow_date\": \"2024-09-10\"},\n",
    "            {\"name\": \"Aditi Bandaru\", \"borrow_date\": \"2024-09-15\"}\n",
    "        ]\n",
    "    },\n",
    "    {\n",
    "        \"title\": \"A Game of Thrones\",\n",
    "        \"author\": \"George R.R. Martin\",\n",
    "        \"genre\": \"Action\",\n",
    "        \"copies_available\": 1,\n",
    "        \"borrowers\": [\n",
    "            {\"name\": \"Soni Dhenuva\", \"borrow_date\": \"2024-09-08\"}\n",
    "        ]\n",
    "    },\n",
    "    {\n",
    "        \"title\": \"Percy Jackson : The Last Olympian\",\n",
    "        \"author\": \"Rick Riordan\",\n",
    "        \"genre\": \"Adventure\",\n",
    "        \"copies_available\": 0,\n",
    "        \"borrowers\": [\n",
    "            {\"name\": \"Sanya Kapoor\", \"borrow_date\": \"2024-09-05\"},\n",
    "            \n",
    "        ]\n",
    "    }\n",
    "]\n",
    "\n",
    "# Display information about each book in the library\n",
    "for book in library:\n",
    "    print(f\"Title: {book['title']}\")\n",
    "    print(f\"Author: {book['author']}\")\n",
    "    print(f\"Genre: {book['genre']}\")\n",
    "    print(f\"Copies Available: {book['copies_available']}\")\n",
    "    print(\"Borrowers:\")\n",
    "    for borrower in book['borrowers']:\n",
    "        print(f\" - {borrower['name']} (Borrowed on: {borrower['borrow_date']})\")\n",
    "    print(\"\\n\")\n"
   ]
  },
  {
   "cell_type": "code",
   "execution_count": null,
   "metadata": {},
   "outputs": [],
   "source": []
  }
 ],
 "metadata": {
  "kernelspec": {
   "display_name": "Python 3",
   "language": "python",
   "name": "python3"
  },
  "language_info": {
   "codemirror_mode": {
    "name": "ipython",
    "version": 3
   },
   "file_extension": ".py",
   "mimetype": "text/x-python",
   "name": "python",
   "nbconvert_exporter": "python",
   "pygments_lexer": "ipython3",
   "version": "3.11.9"
  },
  "orig_nbformat": 4
 },
 "nbformat": 4,
 "nbformat_minor": 2
}
