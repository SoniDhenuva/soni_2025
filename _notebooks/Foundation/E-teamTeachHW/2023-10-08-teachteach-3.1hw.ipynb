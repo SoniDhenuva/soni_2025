{
 "cells": [
  {
   "cell_type": "markdown",
   "metadata": {
    "vscode": {
     "languageId": "raw"
    }
   },
   "source": [
    "---\n",
    "layout: post\n",
    "title: Hw For 3.1 Teach\n",
    "description: This is my homework\n",
    "permalink: /teamTeach1/pages/3.1/index.html\n",
    "type: ccc\n",
    "author: Soni Dhenuva\n",
    "menu: nav/teamteach1HW.html\n",
    "---"
   ]
  },
  {
   "cell_type": "markdown",
   "metadata": {},
   "source": [
    "### Popcorn Hack\n",
    "<br>"
   ]
  },
  {
   "cell_type": "code",
   "execution_count": null,
   "metadata": {},
   "outputs": [],
   "source": [
    "Book = input(\"Enter your Favorite Book: \")\n",
    "author = input(\"Enter the authors name: \")\n",
    "name  = input(\"Enter your name: \")\n",
    "\n",
    "sentence = \"Your favorite book is \" + Book + \" by the author \" +  author + \" and your name is \" + name + \". \"\n",
    "print(sentence)\n"
   ]
  },
  {
   "cell_type": "markdown",
   "metadata": {},
   "source": [
    "<br>\n",
    "\n",
    "### HomeWork Hack 1\n",
    "<br>"
   ]
  },
  {
   "cell_type": "code",
   "execution_count": null,
   "metadata": {
    "vscode": {
     "languageId": "javascript"
    }
   },
   "outputs": [],
   "source": [
    "// Data\n",
    "let fullName = \"Soni Dhenuva\";\n",
    "let age = 15;\n",
    "let email = \"soni.dhenuva@gmail.com\";\n",
    "let hobby = \"Painting\";\n",
    "let pets = \"Dog\";\n",
    "\n",
    "// Generate unique ID: Use the first 3 characters of the last name, reverse the age, and add a random special character\n",
    "let lastNameStart = fullName.split(\" \")[1].substring(0, 3);  // \"Dhe\"\n",
    "let reversedAge = age.toString().split(\"\").reverse().join(\"\");  // \"15\"\n",
    "\n",
    "// Generate a random special character from a predefined list\n",
    "let specialCharacters = \"!@#$%^&*()_+{}[]<>?\";\n",
    "let randomChar = specialCharacters.charAt(Math.floor(Math.random() * specialCharacters.length));\n",
    "\n",
    "// Create the unique ID\n",
    "let uniqueId = lastNameStart + reversedAge + randomChar;  // \"Dhe15!\"\n",
    "\n",
    "// Output the information\n",
    "console.log(formattedInfo);\n",
    "\n"
   ]
  }
 ],
 "metadata": {
  "language_info": {
   "name": "python"
  }
 },
 "nbformat": 4,
 "nbformat_minor": 2
}
