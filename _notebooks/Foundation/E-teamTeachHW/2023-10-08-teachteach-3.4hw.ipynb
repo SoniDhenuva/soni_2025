{
 "cells": [
  {
   "cell_type": "markdown",
   "metadata": {
    "vscode": {
     "languageId": "raw"
    }
   },
   "source": [
    "---\n",
    "layout: post\n",
    "title: Hw For 3.4 Teach\n",
    "description: This is my homework\n",
    "permalink: /teamTeach1/pages/3.4/index.html\n",
    "type: ccc\n",
    "author: Soni Dhenuva\n",
    "menu: nav/teamteach1HW.html\n",
    "---"
   ]
  },
  {
   "cell_type": "markdown",
   "metadata": {},
   "source": [
    "## Popcorn Homework 3.4\n",
    "<br>"
   ]
  },
  {
   "cell_type": "code",
   "execution_count": null,
   "metadata": {
    "vscode": {
     "languageId": "javascript"
    }
   },
   "outputs": [],
   "source": [
    "// Define a string\n",
    "let myString = \"Hello, World!\";\n",
    "\n",
    "// Get the length of the string\n",
    "let stringLength = myString.length;\n",
    "\n",
    "// Output the length\n",
    "console.log(\"The length of the string is:\", stringLength);"
   ]
  },
  {
   "cell_type": "markdown",
   "metadata": {},
   "source": [
    "## Homework 3.4\n",
    "<br>"
   ]
  },
  {
   "cell_type": "markdown",
   "metadata": {},
   "source": [
    "<br>\n",
    "\n",
    "### Python\n",
    "<br>"
   ]
  },
  {
   "cell_type": "code",
   "execution_count": null,
   "metadata": {},
   "outputs": [],
   "source": [
    "import re\n",
    "\n",
    "def validate_password(password):\n",
    "    # Define the validation criteria\n",
    "    min_length = 8\n",
    "    has_uppercase = re.search(r'[A-Z]', password)\n",
    "    has_lowercase = re.search(r'[a-z]', password)\n",
    "    has_digit = re.search(r'\\d', password)\n",
    "    has_special_char = re.search(r'[!@#$%^&*(),.?\":{}|<>]', password)\n",
    "\n",
    "    # Check if the password meets all criteria\n",
    "    if len(password) < min_length:\n",
    "        return \"Password must be at least 8 characters long.\"\n",
    "    elif not has_uppercase:\n",
    "        return \"Password must contain at least one uppercase letter.\"\n",
    "    elif not has_lowercase:\n",
    "        return \"Password must contain at least one lowercase letter.\"\n",
    "    elif not has_digit:\n",
    "        return \"Password must contain at least one number.\"\n",
    "    elif not has_special_char:\n",
    "        return \"Password must contain at least one special character.\"\n",
    "    else:\n",
    "        return \"Password is valid!\"\n",
    "\n",
    "# Take password input from the user\n",
    "password = input(\"Enter your password: \")\n",
    "\n",
    "# Validate the password and print the result\n",
    "result = validate_password(password)\n",
    "print(result)"
   ]
  },
  {
   "cell_type": "markdown",
   "metadata": {},
   "source": [
    "<br>\n",
    "\n",
    "### Javascript\n",
    "<br>"
   ]
  },
  {
   "cell_type": "code",
   "execution_count": null,
   "metadata": {
    "vscode": {
     "languageId": "javascript"
    }
   },
   "outputs": [],
   "source": [
    "document.getElementById('passwordForm').addEventListener('submit', function(e) {\n",
    "    e.preventDefault(); // Prevent form submission\n",
    "  \n",
    "    const password = document.getElementById('password').value;\n",
    "    const resultDiv = document.getElementById('validationResult');\n",
    "  \n",
    "    // Validation checks using simple string methods\n",
    "    const minLength = password.length >= 8;\n",
    "    const hasUppercase = password !== password.toLowerCase(); // Checks if there's at least one uppercase letter\n",
    "    const hasLowercase = password !== password.toUpperCase(); // Checks if there's at least one lowercase letter\n",
    "    const hasNumber = password.indexOf('0') !== -1 || password.indexOf('1') !== -1 || \n",
    "                      password.indexOf('2') !== -1 || password.indexOf('3') !== -1 || \n",
    "                      password.indexOf('4') !== -1 || password.indexOf('5') !== -1 || \n",
    "                      password.indexOf('6') !== -1 || password.indexOf('7') !== -1 || \n",
    "                      password.indexOf('8') !== -1 || password.indexOf('9') !== -1;\n",
    "  \n",
    "    if (minLength && hasUppercase && hasLowercase && hasNumber) {\n",
    "      resultDiv.innerHTML = `<p class=\"valid\">Password is valid!</p>`;\n",
    "    } else {\n",
    "      resultDiv.innerHTML = `<p class=\"invalid\">Password is invalid.</p>`;\n",
    "    }\n",
    "  });\n",
    "  "
   ]
  }
 ],
 "metadata": {
  "language_info": {
   "name": "python"
  }
 },
 "nbformat": 4,
 "nbformat_minor": 2
}
