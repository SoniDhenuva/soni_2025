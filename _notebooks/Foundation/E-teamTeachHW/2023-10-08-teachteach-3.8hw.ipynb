{
 "cells": [
  {
   "cell_type": "markdown",
   "metadata": {
    "vscode": {
     "languageId": "raw"
    }
   },
   "source": [
    "---\n",
    "layout: post\n",
    "title: Hw For 3.8 Teach\n",
    "description: This is my homework\n",
    "permalink: /teamTeach1/pages/3.8/index.html\n",
    "type: ccc\n",
    "author: Soni Dhenuva\n",
    "menu: nav/teamteach1HW.html\n",
    "---"
   ]
  },
  {
   "cell_type": "markdown",
   "metadata": {},
   "source": [
    "## Popcorn Hack #1\n",
    "<br>"
   ]
  },
  {
   "cell_type": "code",
   "execution_count": null,
   "metadata": {},
   "outputs": [],
   "source": [
    "og_price = 10.00\n",
    "student_discount = 0.20\n",
    "child_discount = 0.50\n",
    "senior_discount = 0.30\n",
    "\n",
    "answer = input(\"Enter your age to see if you quailfy for the discount: \")\n",
    "\n",
    "if 0 <= answer <= 12:\n",
    "    total_price = og_price * child_discount\n",
    "    print(\"You quailify for the 50 percent discount! Your total is $\", total_price)\n",
    "elif 13 <= answer <= 63:\n",
    "    total_price = og_price\n",
    "    print(\"You sadly do not quailify for the discount! You total is $\", total_price)\n",
    "elif answer > 63:\n",
    "    total_price = og_price*senior_discount\n",
    "    print(\"You quailify for the 30 percent discount! Your total is $\", total_price)\n",
    "else:\n",
    "    print(\"Sorry there must be a error in your input, try again\")\n",
    "    answer = input(\"Enter your age to see if you quailfy for the discount: \")\n"
   ]
  },
  {
   "cell_type": "markdown",
   "metadata": {},
   "source": [
    "<br>\n",
    "\n",
    "## Popcorn Hack #2\n",
    "\n",
    "<br>"
   ]
  },
  {
   "cell_type": "code",
   "execution_count": null,
   "metadata": {},
   "outputs": [],
   "source": [
    "og_price = 10.00\n",
    "student_discount = 0.20\n",
    "child_discount = 0.50\n",
    "senior_discount = 0.30\n",
    "\n",
    "answer = input(\"Enter your age to see if you quailfy for the discount: \")\n",
    "\n",
    "if 0 <= answer <= 12:\n",
    "    total_price = og_price * child_discount\n",
    "    print(\"You quailify for the 50 percent discount! Your total is $\", total_price)\n",
    "elif 13 <= answer <= 63:\n",
    "    total_price = og_price\n",
    "    print(\"You sadly do not quailify for the discount! You total is $\", total_price)\n",
    "elif answer > 63:\n",
    "    total_price = og_price*senior_discount\n",
    "    print(\"You quailify for the 30 percent discount! Your total is $\", total_price)\n",
    "else:\n",
    "    print(\"Sorry there must be a error in your input, try again\")\n",
    "    answer = input(\"Enter your age to see if you quailfy for the discount: \")\n",
    "\n",
    "\n",
    "if answer % 2 == 0:\n",
    "    print(f\"The number {number} is even.\")\n",
    "else:\n",
    "    print(f\"The number {number} is odd.\")\n",
    "\n"
   ]
  },
  {
   "cell_type": "markdown",
   "metadata": {},
   "source": [
    "<br>\n",
    "\n",
    "## Homework \n",
    "<br>"
   ]
  },
  {
   "cell_type": "code",
   "execution_count": null,
   "metadata": {},
   "outputs": [],
   "source": [
    "while True:\n",
    "    user_input = input(\"Please enter a positive number: \")\n",
    "\n",
    "    try:\n",
    "        number = float(user_input)\n",
    "    except ValueError:\n",
    "        print(\"Error: That is not a valid number. Please try again.\")\n",
    "        continue\n",
    "        \n",
    "    if number > 0:\n",
    "        print(f\"Success! You entered a positive number: {number}\")\n",
    "        break\n",
    "    else:\n",
    "        print(\"Try again. Please enter a positive number.\")\n"
   ]
  }
 ],
 "metadata": {
  "language_info": {
   "name": "python"
  }
 },
 "nbformat": 4,
 "nbformat_minor": 2
}
