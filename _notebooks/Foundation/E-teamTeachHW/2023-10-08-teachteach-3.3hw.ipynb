{
 "cells": [
  {
   "cell_type": "markdown",
   "metadata": {
    "vscode": {
     "languageId": "raw"
    }
   },
   "source": [
    "---\n",
    "layout: post\n",
    "title: Hw For 3.3 Teach\n",
    "description: This is my homework\n",
    "permalink: /teamTeach1/pages/3.3/index.html\n",
    "type: ccc\n",
    "author: Soni Dhenuva\n",
    "menu: nav/teamteach1HW.html\n",
    "---"
   ]
  },
  {
   "cell_type": "markdown",
   "metadata": {},
   "source": [
    "### Homework Hack\n",
    "<br>"
   ]
  },
  {
   "cell_type": "code",
   "execution_count": null,
   "metadata": {},
   "outputs": [],
   "source": [
    "import math\n",
    "\n",
    "def fibonacci(n):\n",
    "    if n <= 0:\n",
    "        return \"Invalid input. n must be a positive integer.\"\n",
    "    elif n == 1:\n",
    "        return 0\n",
    "    elif n == 2:\n",
    "        return 1\n",
    "    else:\n",
    "        a, b = 0, 1\n",
    "        for i in range(2, n):\n",
    "            a, b = b, a + b\n",
    "        return b\n",
    "\n",
    "\n",
    "def calculate_area():\n",
    "    shape = input(\"What shape do you want to calculate the area for? (circle, square, rectangle): \").lower()\n",
    "    \n",
    "    if shape == \"circle\":\n",
    "        radius = float(input(\"Enter the radius of the circle: \"))\n",
    "        area = math.pi * radius ** 2\n",
    "        print(f\"The area of the circle is: {area}\")\n",
    "        \n",
    "    elif shape == \"square\":\n",
    "        side = float(input(\"Enter the side length of the square: \"))\n",
    "        area = side ** 2\n",
    "        print(f\"The area of the square is: {area}\")\n",
    "        \n",
    "    elif shape == \"rectangle\":\n",
    "        length = float(input(\"Enter the length of the rectangle: \"))\n",
    "        width = float(input(\"Enter the width of the rectangle: \"))\n",
    "        area = length * width\n",
    "        print(f\"The area of the rectangle is: {area}\")\n",
    "        \n",
    "    else:\n",
    "        print(\"Invalid shape entered.\")\n",
    "\n",
    "\n",
    "def calculate_volume():\n",
    "    shape = input(\"What shape do you want to calculate the volume for? (rectangular prism, sphere, pyramid): \").lower()\n",
    "    \n",
    "    if shape == \"rectangular prism\":\n",
    "        length = float(input(\"Enter the length of the rectangular prism: \"))\n",
    "        width = float(input(\"Enter the width of the rectangular prism: \"))\n",
    "        height = float(input(\"Enter the height of the rectangular prism: \"))\n",
    "        volume = length * width * height\n",
    "        print(f\"The volume of the rectangular prism is: {volume}\")\n",
    "        \n",
    "    elif shape == \"sphere\":\n",
    "        radius = float(input(\"Enter the radius of the sphere: \"))\n",
    "        volume = (4/3) * math.pi * radius ** 3\n",
    "        print(f\"The volume of the sphere is: {volume}\")\n",
    "        \n",
    "    elif shape == \"pyramid\":\n",
    "        base = float(input(\"Enter the base length of the pyramid: \"))\n",
    "        width = float(input(\"Enter the width of the pyramid: \"))\n",
    "        height = float(input(\"Enter the height of the pyramid: \"))\n",
    "        volume = (1/3) * base * width * height\n",
    "        print(f\"The volume of the pyramid is: {volume}\")\n",
    "        \n",
    "    else:\n",
    "        print(\"Invalid shape entered.\")\n",
    "\n",
    "\n",
    "n = int(input(\"Enter the term number of the Fibonacci sequence you want: \"))\n",
    "print(f\"The {n}th term in the Fibonacci sequence is: {fibonacci(n)}\")\n",
    "\n",
    "calculate_area()\n",
    "\n",
    "\n",
    "calculate_volume()\n"
   ]
  }
 ],
 "metadata": {
  "language_info": {
   "name": "python"
  }
 },
 "nbformat": 4,
 "nbformat_minor": 2
}
