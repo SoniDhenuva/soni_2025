{
 "cells": [
  {
   "cell_type": "markdown",
   "metadata": {
    "vscode": {
     "languageId": "raw"
    }
   },
   "source": [
    "---\n",
    "layout: post\n",
    "title: Hw For 3.10 Teach\n",
    "description: This is my homework\n",
    "permalink: /teamTeach1/pages/3.10/index.html\n",
    "type: ccc\n",
    "author: Soni Dhenuva\n",
    "menu: nav/teamteach1HW.html\n",
    "---"
   ]
  },
  {
   "cell_type": "markdown",
   "metadata": {},
   "source": [
    "## Popcorn Hacks\n",
    "<br>"
   ]
  },
  {
   "cell_type": "code",
   "execution_count": null,
   "metadata": {},
   "outputs": [],
   "source": [
    "\n",
    "movie_list = [\"Spiderman\", \"Rush Hour\", \"Deadpool\"]\n",
    "\n",
    "movie_list.append(\"Sherlock\") # Hack #1\n",
    "\n",
    "movie_list.remove(\"Spiderman\") # Hack #2\n",
    "\n",
    "movie_list[2] = \"Mean Girls\" # Hack #3\n",
    "\n",
    "print(\"Updated list:\", movie_list)\n"
   ]
  },
  {
   "cell_type": "markdown",
   "metadata": {},
   "source": [
    "<br>\n",
    "\n",
    "## Homework Hack\n",
    "<br>"
   ]
  },
  {
   "cell_type": "code",
   "execution_count": null,
   "metadata": {},
   "outputs": [],
   "source": [
    "# Create a list with some numbers\n",
    "numbers = [10, 15, 22, 33, 40, 8, 57, 99, 72]\n",
    "\n",
    "even_num_sum = 0\n",
    "for score in nums:\n",
    "   if score % 2 == 0: \n",
    "       even_num_sum += score \n",
    "print(\"Sum of even numbers in the list:\", even_sum)\n",
    "\n",
    "min_value = min(numbers)\n",
    "\n",
    "max_value = max(numbers)\n",
    "\n",
    "print(\"Minimum value:\", min_value)\n",
    "print(\"Maximum value:\", max_value)"
   ]
  }
 ],
 "metadata": {
  "language_info": {
   "name": "python"
  }
 },
 "nbformat": 4,
 "nbformat_minor": 2
}
