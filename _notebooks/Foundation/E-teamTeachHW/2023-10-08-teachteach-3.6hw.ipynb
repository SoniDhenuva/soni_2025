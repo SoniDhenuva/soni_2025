{
 "cells": [
  {
   "cell_type": "markdown",
   "metadata": {
    "vscode": {
     "languageId": "raw"
    }
   },
   "source": [
    "---\n",
    "layout: post\n",
    "title: Hw For 3.6 Teach\n",
    "description: This is my homework\n",
    "permalink: /teamTeach1/pages/3.6/index.html\n",
    "type: ccc\n",
    "author: Soni Dhenuva\n",
    "menu: nav/teamteach1HW.html\n",
    "---"
   ]
  },
  {
   "cell_type": "markdown",
   "metadata": {},
   "source": [
    "## Popcorn Hack/Homework 3.6\n",
    "<br>"
   ]
  },
  {
   "cell_type": "code",
   "execution_count": null,
   "metadata": {},
   "outputs": [],
   "source": [
    "num1 = input(\"Enter number 1: \")\n",
    "num2 = input(\"Enter number 2: \")\n",
    "if num1 == num2:\n",
    "    print(\"The numbers are equal!\")\n",
    "elif num1 > num2:\n",
    "    print(num1 + \" is greater than \" + num2)\n",
    "else:\n",
    "    print(num1 + \" is less than \" + num2)"
   ]
  }
 ],
 "metadata": {
  "language_info": {
   "name": "python"
  }
 },
 "nbformat": 4,
 "nbformat_minor": 2
}
