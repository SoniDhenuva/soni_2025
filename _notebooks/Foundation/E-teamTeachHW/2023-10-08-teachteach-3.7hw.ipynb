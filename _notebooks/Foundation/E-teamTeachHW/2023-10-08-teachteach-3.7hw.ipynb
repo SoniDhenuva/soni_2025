{
 "cells": [
  {
   "cell_type": "markdown",
   "metadata": {
    "vscode": {
     "languageId": "raw"
    }
   },
   "source": [
    "---\n",
    "layout: post\n",
    "title: Hw For 3.6 Teach\n",
    "description: This is my homework\n",
    "permalink: /teamTeach1/pages/3.7/index.html\n",
    "type: ccc\n",
    "author: Soni Dhenuva\n",
    "menu: nav/teamteach1HW.html\n",
    "---"
   ]
  },
  {
   "cell_type": "markdown",
   "metadata": {},
   "source": [
    "## Popcorn Hack/Homework 3.6\n",
    "<br>\n",
    "<br>\n",
    "\n",
    "### Hack #1 - Psuedo Code\n",
    "<br>"
   ]
  },
  {
   "cell_type": "code",
   "execution_count": null,
   "metadata": {
    "vscode": {
     "languageId": "ini"
    }
   },
   "outputs": [],
   "source": [
    "START\n",
    "    INPUT Exam1, Exam2, AttendancePercentage\n",
    "\n",
    "    IF Exam1 >= 50 AND Exam2 >= 50 THEN\n",
    "        IF AttendancePercentage >= 75 THEN\n",
    "            PRINT \"Student passes the class.\"\n",
    "        ELSE\n",
    "            PRINT \"Student fails due to low attendance.\"\n",
    "        ENDIF\n",
    "    ELSE\n",
    "        PRINT \"Student fails due to low exam scores.\"\n",
    "    ENDIF\n",
    "END"
   ]
  },
  {
   "cell_type": "markdown",
   "metadata": {
    "vscode": {
     "languageId": "ini"
    }
   },
   "source": [
    "<br>\n",
    "\n",
    "### Hack #2\n",
    "<br>"
   ]
  },
  {
   "cell_type": "code",
   "execution_count": null,
   "metadata": {},
   "outputs": [],
   "source": [
    "# Input: weight of the package and delivery speed\n",
    "weight = float(input(\"Enter the weight of the package (kg): \"))\n",
    "speed = input(\"Choose delivery speed (standard/express): \")\n",
    "\n",
    "# Decide shipping cost based on weight and speed\n",
    "if weight < 5:\n",
    "    if speed == \"standard\":\n",
    "        shipping_cost = 5\n",
    "    elif speed == \"express\":\n",
    "        shipping_cost = 10\n",
    "else:\n",
    "    if speed == \"standard\":\n",
    "        shipping_cost = 10\n",
    "    elif speed == \"express\":\n",
    "        shipping_cost = 20\n",
    "\n",
    "print(f\"Shipping cost: ${shipping_cost}\")"
   ]
  },
  {
   "cell_type": "markdown",
   "metadata": {},
   "source": [
    "<br>\n",
    "\n",
    "### Hack #3\n",
    "<br>"
   ]
  },
  {
   "cell_type": "code",
   "execution_count": null,
   "metadata": {},
   "outputs": [],
   "source": [
    "# Input: age of the person and whether they are a student\n",
    "age = int(input(\"Enter your age: \"))\n",
    "is_student = input(\"Are you a student (yes/no)? \").lower()\n",
    "\n",
    "# Determine ticket price based on age\n",
    "if age < 12:\n",
    "    ticket_price = 5\n",
    "elif age <= 17:\n",
    "    ticket_price = 10\n",
    "elif age <= 64:\n",
    "    ticket_price = 15\n",
    "else:\n",
    "    ticket_price = 8\n",
    "\n",
    "# Apply student discount if applicable\n",
    "if is_student == \"yes\":\n",
    "    ticket_price -= 2\n",
    "\n",
    "print(f\"Ticket price: ${ticket_price}\")"
   ]
  },
  {
   "cell_type": "markdown",
   "metadata": {},
   "source": [
    "<br>\n",
    "\n",
    "### Hack #4\n",
    "<br>\n"
   ]
  },
  {
   "cell_type": "code",
   "execution_count": null,
   "metadata": {},
   "outputs": [],
   "source": [
    "# Function to determine the type of triangle\n",
    "def triangle_type():\n",
    "    # Prompt user for the sides of the triangle\n",
    "    a = float(input(\"Enter the length of the first side: \"))\n",
    "    b = float(input(\"Enter the length of the second side: \"))\n",
    "    c = float(input(\"Enter the length of the third side: \"))\n",
    "\n",
    "    # Input validation: check if all sides are positive numbers\n",
    "    if a > 0 and b > 0 and c > 0:\n",
    "        # Check if the sides form a valid triangle (Triangle Inequality Theorem)\n",
    "        if (a + b > c) and (a + c > b) and (b + c > a):\n",
    "            # Further classify the type of triangle\n",
    "            if a == b == c:\n",
    "                print(\"This is an Equilateral Triangle (all sides are equal).\")\n",
    "            elif a == b or b == c or a == c:\n",
    "                print(\"This is an Isosceles Triangle (two sides are equal).\")\n",
    "            else:\n",
    "                print(\"This is a Scalene Triangle (no sides are equal).\")\n",
    "        else:\n",
    "            print(\"The sides do not form a valid triangle.\")\n",
    "    else:\n",
    "        print(\"Invalid input! All sides must be positive numbers.\")\n",
    "\n",
    "# Call the function\n",
    "triangle_type()\n"
   ]
  }
 ],
 "metadata": {
  "language_info": {
   "name": "python"
  }
 },
 "nbformat": 4,
 "nbformat_minor": 2
}
