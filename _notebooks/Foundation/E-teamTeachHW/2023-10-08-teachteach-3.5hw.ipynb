{
 "cells": [
  {
   "cell_type": "markdown",
   "metadata": {
    "vscode": {
     "languageId": "raw"
    }
   },
   "source": [
    "---\n",
    "layout: post\n",
    "title: Hw For 3.5 Teach\n",
    "description: This is my homework\n",
    "permalink: /teamTeach1/pages/3.5/index.html\n",
    "type: ccc\n",
    "author: Soni Dhenuva\n",
    "menu: nav/teamteach1HW.html\n",
    "---"
   ]
  },
  {
   "cell_type": "markdown",
   "metadata": {},
   "source": [
    "### Popcorn Hacks"
   ]
  },
  {
   "cell_type": "code",
   "execution_count": null,
   "metadata": {},
   "outputs": [],
   "source": [
    "#1\n",
    "def check_single_boolean(value):\n",
    "    if value:\n",
    "        return \"The boolean is True.\"\n",
    "    else:\n",
    "        return \"The boolean is False.\"\n",
    "\n",
    "\n",
    "print(check_single_boolean(True))  \n",
    "print(check_single_boolean(False)) \n"
   ]
  },
  {
   "cell_type": "code",
   "execution_count": null,
   "metadata": {},
   "outputs": [],
   "source": [
    "#1\n",
    "def check_booleans(value1, value2):\n",
    "    if value1 and value2:\n",
    "        return \"Both booleans are True.\"\n",
    "    elif value1 or value2:\n",
    "        return \"Either one of the booleans is True.\"\n",
    "    else:\n",
    "        return \"Neither of the booleans is True.\"\n",
    "\n",
    "\n",
    "print(check_booleans(True, True))   \n",
    "print(check_booleans(True, False))  \n",
    "print(check_booleans(False, False)) \n"
   ]
  },
  {
   "cell_type": "code",
   "execution_count": null,
   "metadata": {},
   "outputs": [],
   "source": [
    "#2\n",
    "def is_greater_than_10(number):\n",
    "    return number > 10\n",
    "\n",
    "\n",
    "print(is_greater_than_10(12))  \n",
    "print(is_greater_than_10(8))   \n"
   ]
  },
  {
   "cell_type": "code",
   "execution_count": null,
   "metadata": {},
   "outputs": [],
   "source": [
    "#3\n",
    "def is_three_digits(number):\n",
    "    return 100 <= abs(number) <= 999\n",
    "\n",
    "\n",
    "print(is_three_digits(123))  \n",
    "print(is_three_digits(99))    \n",
    "print(is_three_digits(-456))  \n",
    "print(is_three_digits(-1000)) \n"
   ]
  },
  {
   "cell_type": "markdown",
   "metadata": {},
   "source": [
    "<br>\n",
    "\n",
    "### Homework Hack \n",
    "<br>"
   ]
  },
  {
   "cell_type": "code",
   "execution_count": null,
   "metadata": {},
   "outputs": [],
   "source": [
    "def de_morgan_laws():\n",
    "    print(\"P\\tQ\\tNOT (P AND Q)\\tNOT P OR NOT Q\\tNOT (P OR Q)\\tNOT P AND NOT Q\")\n",
    "    print(\"----------------------------------------------------------------------\")\n",
    "    \n",
    "    for p in [True, False]:\n",
    "        for q in [True, False]:\n",
    "            not_p_and_q = not (p and q)\n",
    "            not_p_or_not_q = (not p) or (not q)\n",
    "            not_p_or_q = not (p or q)\n",
    "            not_p_and_not_q = (not p) and (not q)\n",
    "            print(f\"{p}\\t{q}\\t{not_p_and_q}\\t\\t{not_p_or_not_q}\\t\\t{not_p_or_q}\\t\\t{not_p_and_not_q}\")\n",
    "\n",
    "de_morgan_laws()\n"
   ]
  }
 ],
 "metadata": {
  "language_info": {
   "name": "python"
  }
 },
 "nbformat": 4,
 "nbformat_minor": 2
}
