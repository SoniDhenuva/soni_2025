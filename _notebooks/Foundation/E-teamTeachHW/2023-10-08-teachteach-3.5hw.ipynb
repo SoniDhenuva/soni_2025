{
 "cells": [
  {
   "cell_type": "markdown",
   "metadata": {
    "vscode": {
     "languageId": "raw"
    }
   },
   "source": [
    "---\n",
    "layout: post\n",
    "title: Hw For 3.5 Teach\n",
    "description: This is my homework\n",
    "permalink: /teamTeach1/pages/3.5/index.html\n",
    "type: ccc\n",
    "author: Soni Dhenuva\n",
    "menu: nav/teamteach1HW.html\n",
    "---"
   ]
  },
  {
   "cell_type": "markdown",
   "metadata": {},
   "source": [
    "<br>\n",
    "\n",
    "### Homework Hack \n",
    "<br>"
   ]
  },
  {
   "cell_type": "code",
   "execution_count": null,
   "metadata": {},
   "outputs": [],
   "source": [
    "def de_morgan_laws():\n",
    "    print(\"P\\tQ\\tNOT (P AND Q)\\tNOT P OR NOT Q\\tNOT (P OR Q)\\tNOT P AND NOT Q\")\n",
    "    print(\"----------------------------------------------------------------------\")\n",
    "    \n",
    "    for p in [True, False]:\n",
    "        for q in [True, False]:\n",
    "            not_p_and_q = not (p and q)\n",
    "            not_p_or_not_q = (not p) or (not q)\n",
    "            not_p_or_q = not (p or q)\n",
    "            not_p_and_not_q = (not p) and (not q)\n",
    "            print(f\"{p}\\t{q}\\t{not_p_and_q}\\t\\t{not_p_or_not_q}\\t\\t{not_p_or_q}\\t\\t{not_p_and_not_q}\")\n",
    "\n",
    "de_morgan_laws()\n"
   ]
  }
 ],
 "metadata": {
  "language_info": {
   "name": "python"
  }
 },
 "nbformat": 4,
 "nbformat_minor": 2
}
