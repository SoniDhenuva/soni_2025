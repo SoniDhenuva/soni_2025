{
 "cells": [
  {
   "cell_type": "markdown",
   "metadata": {
    "vscode": {
     "languageId": "raw"
    }
   },
   "source": [
    "---\n",
    "layout: post\n",
    "title: About Me\n",
    "description: this is page about me\n",
    "categories: [Github Pages]\n",
    "permalink: /github/pages/jekyll\n",
    "menu: nav/github_pages.html\n",
    "toc: true\n",
    "comments: true\n",
    "---"
   ]
  },
  {
   "cell_type": "markdown",
   "metadata": {},
   "source": [
    "## Intro\n",
    "<p>Hi, My name is Sonika Dhenuva Konda, I go by Soni. I am in 10th grade and 15 years old.</p>\n",
    "<p>I joined a few clubs at school like Robotics & Debate. I also own my own small buisness of selling jewlry</p>\n",
    "\n",
    "## My Favorites\n",
    "<p>My favorite food is icecream, i also love any type of chocolate</p>\n",
    "<p>I also have several favorite movie such as all Ironman, Deadpool, Spiderman, Sherlock Homes, Transformers, Rush Hour, Jurrasic World, etc</p>\n",
    "<img src=\"{{site.baseurl}}/images/jurassic.png\">\n",
    "<img src=\"{{site.baseurl}}/images/deadpool.png\">\n",
    "<img src=\"{{site.baseurl}}/images/spiderman.png\">\n",
    "\n",
    "\n",
    "## My Family\n",
    "<p>Fun Fact! I was actually born in india. I moved here when I was 9 months old. My dad and mom are both from India, and I have a younger sister who is 9.</p>\n",
    "<p> A lot of my family, including grandparents, aunts, uncles, and cousin are in Indian and love to go and visit then once in a few years!</p>\n",
    "<img src=\"{{site.baseurl}}/images/india.png\">\n",
    "<img src=\"{{site.baseurl}}/images/food.png\">"
   ]
  }
 ],
 "metadata": {
  "language_info": {
   "name": "python"
  }
 },
 "nbformat": 4,
 "nbformat_minor": 2
}
