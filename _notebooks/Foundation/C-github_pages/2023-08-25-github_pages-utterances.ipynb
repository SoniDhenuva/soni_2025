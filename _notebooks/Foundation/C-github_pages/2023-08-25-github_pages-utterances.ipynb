{
 "cells": [
  {
   "cell_type": "markdown",
   "metadata": {
    "vscode": {
     "languageId": "raw"
    }
   },
   "source": [
    "---\n",
    "layout: post\n",
    "title: FrontEnd Devolpment\n",
    "description: This is front end devolpment\n",
    "permalink: /github/pages/utterances\n",
    "author: Trevor Huang\n",
    "menu: nav/github_pages.html\n",
    "toc: true\n",
    "comments: true\n",
    "---"
   ]
  },
  {
   "cell_type": "markdown",
   "metadata": {},
   "source": [
    "<html> \n",
    "\n",
    "<div style=\"border:dashed\" > \n",
    "<h2 color=\"white\"> HELLO </h2>\n",
    "<p> Soni Dhenuva </p>\n",
    "<br>\n",
    "<button id=\"myButton\">Dont Click this.</button>\n",
    "<p id=\"responseMessage\"></p>\n",
    "<script src=\"script.js\"></script>\n",
    "</div>\n",
    "\n",
    "\n",
    "<script>\n",
    "const button = document.getElementById('myButton');\n",
    "const message = document.getElementById('responseMessage');\n",
    "// Add an event listener to the button for the click event\n",
    "button.addEventListener('click', function() {\n",
    "    // Change the message when the button is clicked\n",
    "    message.textContent = \"I will find you\";\n",
    "});\n",
    "</script>\n",
    "\n",
    "\n",
    "\n",
    "\n",
    "\n",
    "\n",
    "<div style=\"border:dashed\"> \n",
    "<a href=\"https://sallysbakingaddiction.com/strawberry-cake/\"> Strawberry Cake Recipie</a>\n",
    "<br>\n",
    "\n",
    "<a href=\"https://sallysbakingaddiction.com/the-great-pumpkin-pie-recipe/\">Pumpkin Pie Recipie</a>\n",
    "<br>\n",
    "<p> Which recipe do like better? </p>\n",
    "</div>\n",
    "\n",
    "</html>"
   ]
  }
 ],
 "metadata": {
  "kernelspec": {
   "display_name": "Python 3",
   "language": "python",
   "name": "python3"
  },
  "language_info": {
   "codemirror_mode": {
    "name": "ipython",
    "version": 3
   },
   "file_extension": ".py",
   "mimetype": "text/x-python",
   "name": "python",
   "nbconvert_exporter": "python",
   "pygments_lexer": "ipython3",
   "version": "3.10.12"
  }
 },
 "nbformat": 4,
 "nbformat_minor": 2
}
