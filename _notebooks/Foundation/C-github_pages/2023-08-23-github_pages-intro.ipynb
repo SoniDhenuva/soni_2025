{
 "cells": [
  {
   "cell_type": "markdown",
   "metadata": {
    "vscode": {
     "languageId": "raw"
    }
   },
   "source": [
    "---\n",
    "layout: post\n",
    "title: Accomplishments\n",
    "description: Here are my accomplishments of the week\n",
    "permalink: /github/pages/intro\n",
    "type: ccc\n",
    "courses: { csse: {week: 1}, csp: {week: 1}, csa: {week: 0} }\n",
    "author: Soni Dhenuva\n",
    "menu: nav/github_pages.html\n",
    "---"
   ]
  },
  {
   "cell_type": "markdown",
   "metadata": {},
   "source": [
    "## What I accomplished\n",
    "- I was succesfully able to create mario and all his movement on the home page\n",
    "- I successfully diplayed a snake game and a catchingmae on my about me page\n",
    "- I added pictures and buttons to my about me page\n",
    "-I personilaized my blog the way i wanted it\n",
    "- I made a submenu that works with jupiter notebooks displayed\n",
    "\n",
    "## What i need to work on\n",
    "- I started to create table on my hacks page, I got it working, but there are still probelm when i try to insert a link to a webpage.\n",
    "- It is still a work in progress, but i made a lot of progress on the project\n",
    "- I was also unable to successfully make the emohi download or the wikipedia download working\n"
   ]
  }
 ],
 "metadata": {
  "kernelspec": {
   "display_name": "Python 3",
   "language": "python",
   "name": "python3"
  },
  "language_info": {
   "codemirror_mode": {
    "name": "ipython",
    "version": 3
   },
   "file_extension": ".py",
   "mimetype": "text/x-python",
   "name": "python",
   "nbconvert_exporter": "python",
   "pygments_lexer": "ipython3",
   "version": "3.11.9"
  },
  "orig_nbformat": 4
 },
 "nbformat": 4,
 "nbformat_minor": 2
}
