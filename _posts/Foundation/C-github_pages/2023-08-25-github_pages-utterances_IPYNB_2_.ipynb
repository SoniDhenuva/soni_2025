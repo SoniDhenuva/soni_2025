{
 "cells": [
  {
   "cell_type": "markdown",
   "metadata": {},
   "source": [
    "---\n",
    "layout: post\n",
    "title: Plans\n",
    "description: Learn how to set up utterances for your blog. Utterances is a tool that allows you to have comments on your blog posts.\n",
    "categories: ['DevOps', 'Github Pages']\n",
    "permalink: /github/pages/utterances\n",
    "author: Trevor Huang\n",
    "menu: nav/github_pages.html\n",
    "toc: True\n",
    "comments: True\n",
    "---"
   ]
  },
  {
   "cell_type": "markdown",
   "metadata": {},
   "source": [
    "## What I attempted to do\n",
    "- I wanted to personilized my blog to fit my favorite colors and added a game in the index.md\n",
    "- i wanted to add my Mario successfully\n",
    "- I wanted to add a table in my hacks pages, in which it organized all my pages.\n",
    "\n",
    "## What I accomplished\n",
    "- I personaliized my blog to what i liked, and added a snake game\n",
    "- my arios works successfully after a few attempts\n",
    "- i am not finished with the table in my hacks pages, but iv made lots of progress."
   ]
  }
 ],
 "metadata": {
  "language_info": {
   "name": "python"
  }
 },
 "nbformat": 4,
 "nbformat_minor": 2
}
