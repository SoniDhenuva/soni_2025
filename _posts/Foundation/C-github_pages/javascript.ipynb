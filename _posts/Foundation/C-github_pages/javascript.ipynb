{
 "cells": [
  {
   "cell_type": "markdown",
   "metadata": {},
   "source": [
    "---\n",
    "layout: post\n",
    "title: Javascript Code\n",
    "description: Learn the Files and development work flow of GitHub Pages.  This includes working with you home page, theme, markdown, and more.\n",
    "categories: ['GitHub Pages']\n",
    "permalink: /github/pages/javascript\n",
    "menu: nav/github_pages.html\n",
    "toc: True\n",
    "comments: True\n",
    "---"
   ]
  },
  {
   "cell_type": "markdown",
   "metadata": {},
   "source": [
    "# Basics of Javascript\n",
    "\n",
    "## How to use javascript in any of your pages\n",
    "Simply add a <script></script> in your markdown or jupyter cells\n",
    "(Note: the %%html magic command allows us to add HTML and JavaScript into a jupyter notebook, the outputted “site” will be shown below the code)"
   ]
  },
  {
   "cell_type": "code",
   "execution_count": null,
   "metadata": {
    "vscode": {
     "languageId": "html"
    }
   },
   "outputs": [],
   "source": [
    "%%html\n",
    "<h3>Page Heading</h3>\n",
    "<p>Paragraph description of page</p>\n",
    "<script>\n",
    "    console.log(\"Output to console, showing that JavaScript code is running\")\n",
    "</script>"
   ]
  },
  {
   "cell_type": "markdown",
   "metadata": {},
   "source": [
    "## Writing text to console.log\n",
    "The text written with console.log appears in the Console\n",
    "console.log allows you to write text – but you don’t see any text in above example until you view Console.\n",
    "## Activate Console window\n",
    "VSCode Help-Toggle Developer Tools allows you to see console.log output\n",
    "Chrome and other browsers require right click -> inspect also allows access to console.log output\n",
    "Safari users will need to enable developer settings before inspecting an element. To do this go to Safari settings -> advanced and check the box next to “Show develop menu in menu bar”\n",
    "By default you usually need to click Console next to Elements, to see console.log output\n",
    "Also, you may want to press clear console (cirlcl with slash) to clean up screen before analysis.\n",
    "## Try code with Console\n",
    "Developers typically keep console open\n",
    "In console window, you can run javascript code from prompt\n",
    "## Storing data\n",
    "One of the most important things in programming is learning how data is stored, this is often called Data Abstraction (the ability to represent data in a programming language).\n",
    "## Types of data\n",
    "Javascript has a few basic types of data, which align with what the types of data you might know yourself\n",
    "In javascript, these types are formalized as:\n",
    "text = “string”, number = “number”, true/false = “boolean”\n",
    "## Name the Data\n",
    "When you think of data, it has a name and a value.\n",
    "Using the “var” JavaScript syntax you create a variable with a name and a value.\n",
    "In javascript this can represented with the following: var someName = value;\n",
    "The name cannot have spaces\n",
    "Text values must be wrapped in single or double quotes to identify it as text (see exmaples below)\n",
    "## Accessing data\n",
    "To access data (the value of a variable), simply just use the name of the variable\n",
    "For example, we can use the values from previously in a console.log"
   ]
  },
  {
   "cell_type": "code",
   "execution_count": null,
   "metadata": {
    "vscode": {
     "languageId": "html"
    }
   },
   "outputs": [],
   "source": [
    "<script>\n",
    "    // create variables\n",
    "    var firstName = \"Rohan\"\n",
    "    var lastName = 'Juneja'\n",
    "    var age = 17;\n",
    "    var isSchoolDay = true; \n",
    "    \n",
    "    // inspect values and type\n",
    "    console.log(firstName, typeof firstName)\n",
    "    console.log(lastName, typeof lastName)\n",
    "    console.log(age, typeof age)\n",
    "    console.log(isSchoolDay, typeof isSchoolDay)\n",
    "    \n",
    "    </script>"
   ]
  },
  {
   "cell_type": "markdown",
   "metadata": {},
   "source": [
    "## String Operators"
   ]
  },
  {
   "cell_type": "code",
   "execution_count": null,
   "metadata": {
    "vscode": {
     "languageId": "html"
    }
   },
   "outputs": [],
   "source": [
    "<script>\n",
    "    // string assignment\n",
    "    var name1 = \"Doe\"\n",
    "    var name2 = \"Doe\"\n",
    "    \n",
    "    // compare names\n",
    "    console.log(\"String Comparison\")\n",
    "    console.log(\"name1\", name1)\n",
    "    console.log(\"name2\", name2)\n",
    "    console.log(\"name1 == name2\", name1 == name2)\n",
    "    \n",
    "    // changing the value of name1 and repeat compare\n",
    "    console.log(\"String Comparison after change\")\n",
    "    name1 = \"John\"  // reassign\n",
    "    console.log(\"name1\", name1)\n",
    "    console.log(\"name2\", name2)\n",
    "    console.log(\"name1 == name2\", name1 == name2)\n",
    "    \n",
    "    console.log(\"String Concatenation\")\n",
    "    console.log(name1 + \" \" + name2)\n",
    "    </script>"
   ]
  },
  {
   "cell_type": "markdown",
   "metadata": {},
   "source": [
    "## Number Operators"
   ]
  },
  {
   "cell_type": "code",
   "execution_count": null,
   "metadata": {
    "vscode": {
     "languageId": "html"
    }
   },
   "outputs": [],
   "source": [
    "<script>\n",
    "    // assigning values to age variables\n",
    "    var age1 = 17\n",
    "    var age2 = 16\n",
    "    var age3 = '17'\n",
    "    \n",
    "    // comparison\n",
    "    console.log(\"Number Comparisons\")\n",
    "    console.log(\"age1:\", age1)\n",
    "    console.log(\"age2:\", age2)\n",
    "    console.log(\"age3:\", age3)\n",
    "    console.log(\"age1 == age2\", age1 == age2)\n",
    "    console.log(\"age1 == age3\", age1 == age3)\n",
    "    console.log(\"age1 === age3\", age1 === age3)\n",
    "    console.log(\"age1 > age2\", age1 > age2)\n",
    "    console.log(\"age1 < age2\", age1 < age2)\n",
    "    \n",
    "    // reassignment\n",
    "    var num1 = 9\n",
    "    var num2 = 5\n",
    "    console.log(\"\\n\")\n",
    "    console.log(\"Arithmetic Operations\")\n",
    "    console.log(\"num1:\", num1)\n",
    "    console.log(\"num2:\", num2)\n",
    "    console.log(\"num1 + num2\", num1 + num2)\n",
    "    console.log(\"num1 - num2\", num1 - num2)\n",
    "    console.log(\"num1 * num2\", num1 * num2)\n",
    "    console.log(\"num1 / num2\", num1 / num2)\n",
    "    console.log(\"num1 % num2\", num1 % num2)\n",
    "    \n",
    "    </script>"
   ]
  },
  {
   "cell_type": "markdown",
   "metadata": {},
   "source": [
    "## Conditional Statements"
   ]
  },
  {
   "cell_type": "code",
   "execution_count": null,
   "metadata": {
    "vscode": {
     "languageId": "html"
    }
   },
   "outputs": [],
   "source": [
    "<script>\n",
    "    // the above example in code\n",
    "    console.log(\"Alarm Example\")\n",
    "    \n",
    "    var tommorowIsSchoolDay = false\n",
    "    \n",
    "    if (tommorowIsSchoolDay) {\n",
    "        // this code runs if tommorw is a school day\n",
    "        console.log(\"Setting alarm for 8am\")\n",
    "    } else {\n",
    "        // this code runs if tommorow is not a school day\n",
    "        console.log(\"Setting alarm for 10am\")\n",
    "    }\n",
    "    </script>"
   ]
  },
  {
   "cell_type": "markdown",
   "metadata": {},
   "source": [
    "## Conditional Statements + Operators"
   ]
  },
  {
   "cell_type": "code",
   "execution_count": null,
   "metadata": {
    "vscode": {
     "languageId": "html"
    }
   },
   "outputs": [],
   "source": [
    "<script>\n",
    "    console.log(\"If statements + Operators\")\n",
    "    var age1 = 17\n",
    "    var age2 = 37\n",
    "    \n",
    "    if (age1 > age2) {\n",
    "        // runs if age1 is more than age2\n",
    "        console.log(\"age1 is more than age2\")\n",
    "    \n",
    "    } else if (age1 == age2) {\n",
    "        // runs if age1 and age2 are the same\n",
    "        console.log(\"age1 is the same as age2\")\n",
    "    \n",
    "    // (age1 < age2)\n",
    "    } else  {\n",
    "        // runs if age2 is more than age1\n",
    "        console.log(\"age1 is less than age2\")\n",
    "    }\n",
    "    \n",
    "    </script>"
   ]
  }
 ],
 "metadata": {
  "language_info": {
   "name": "python"
  }
 },
 "nbformat": 4,
 "nbformat_minor": 2
}
