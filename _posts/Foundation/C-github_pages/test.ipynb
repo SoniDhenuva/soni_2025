{
 "cells": [
  {
   "cell_type": "markdown",
   "metadata": {},
   "source": [
    "---\n",
    "layout: post\n",
    "title: plans\n",
    "description: Learn the Files and development work flow of GitHub Pages.  This includes working with you home page, theme, markdown, and more.\n",
    "categories: ['GitHub Pages']\n",
    "permalink: /github/pages/plans\n",
    "menu: nav/github_pages.html\n",
    "toc: True\n",
    "comments: True\n",
    "---"
   ]
  },
  {
   "cell_type": "markdown",
   "metadata": {},
   "source": [
    "## What I attempted to do\n",
    "- I wanted to personilized my blog to fit my favorite colors and added a game in the index.md\n",
    "- i wanted to add my Mario successfully\n",
    "- I wanted to add a table in my hacks pages, in which it organized all my pages.\n",
    "\n",
    "## What I accomplished\n",
    "- I personaliized my blog to what i liked, and added a snake game\n",
    "- my arios works successfully after a few attempts\n",
    "- i am not finished with the table in my hacks pages, but iv made lots of progress."
   ]
  }
 ],
 "metadata": {
  "language_info": {
   "name": "python"
  }
 },
 "nbformat": 4,
 "nbformat_minor": 2
}
