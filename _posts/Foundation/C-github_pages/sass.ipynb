{
 "cells": [
  {
   "cell_type": "markdown",
   "metadata": {},
   "source": [
    "---\n",
    "layout: post\n",
    "title: SASS\n",
    "description: Learn the Files and development work flow of GitHub Pages.  This includes working with you home page, theme, markdown, and more.\n",
    "categories: ['GitHub Pages']\n",
    "permalink: /github/pages/sass\n",
    "menu: nav/github_pages.html\n",
    "toc: True\n",
    "comments: True\n",
    "---"
   ]
  },
  {
   "cell_type": "markdown",
   "metadata": {},
   "source": [
    "# CSS VS SASS\n",
    "-The awesomeness of SASS (Syntactically Awesome Stylesheets) really comes down to having programattic and reusable features that it can turn SASS into CSS.\n",
    "\n",
    "SASS is a powerful extension of CSS that enables developers to use features not available in pure CSS, such as variables, mixins, and nesting. Such features, as well the SASS preprocessor can create consistent CSS for multiple pages out of a single SASS definitions.\n",
    "CSS remains the foundational language for styling Web Pages. SASS contains a scripting languages and a preprocessor (build step) that creates CSS stylesheets."
   ]
  },
  {
   "cell_type": "markdown",
   "metadata": {},
   "source": [
    "# CSS"
   ]
  },
  {
   "cell_type": "code",
   "execution_count": null,
   "metadata": {
    "vscode": {
     "languageId": "css"
    }
   },
   "outputs": [],
   "source": [
    "<nav>\n",
    "  <ul>\n",
    "    <li><a href=\"#\">Home</a></li>\n",
    "    <li><a href=\"#\">About</a></li>\n",
    "    <li><a href=\"#\">Contact</a></li>\n",
    "  </ul>\n",
    "</nav>\n",
    "\n",
    "<!-- This is CSS which doesn't utilize nesting -->\n",
    "<style>\n",
    "  nav {\n",
    "  background-color: #333;\n",
    "  }\n",
    "\n",
    "  nav ul {\n",
    "  list-style: none;\n",
    "  }\n",
    "\n",
    "  nav ul li {\n",
    "  display: inline-block;\n",
    "  }\n",
    "\n",
    "  nav ul li a {\n",
    "  color: white;\n",
    "  text-decoration: none;\n",
    "  }\n",
    "\n",
    "  nav ul li a:hover {\n",
    "  color: #ff0;\n",
    "  }\n",
    "</style>"
   ]
  },
  {
   "cell_type": "markdown",
   "metadata": {
    "vscode": {
     "languageId": "css"
    }
   },
   "source": [
    "# SASS -> changing to sass"
   ]
  },
  {
   "cell_type": "code",
   "execution_count": null,
   "metadata": {
    "vscode": {
     "languageId": "scss"
    }
   },
   "outputs": [],
   "source": [
    "// Variables in SASS are declared with a dollar sign and naming conventions is to seperate words with dashes.\n",
    "$bg-color: #333;\n",
    "$bg-a-color: white;\n",
    "$bg-a-hover-color: #ff0;\n",
    "// Nesting in SASS is done by indenting the child elements.\n",
    "nav {\n",
    "    background-color: $bg-color;\n",
    "\n",
    "    ul {\n",
    "        list-style: none;\n",
    "\n",
    "        li {\n",
    "            display: inline-block;\n",
    "\n",
    "            a {\n",
    "                color: $bg-a-color;\n",
    "                text-decoration: none;\n",
    "\n",
    "                &:hover {\n",
    "                    color: $bg-a-hover-color;\n",
    "                }\n",
    "            }\n",
    "        }\n",
    "    }\n",
    "}"
   ]
  },
  {
   "cell_type": "markdown",
   "metadata": {},
   "source": [
    "## Mixins\n",
    "Mixins are a powerful feature in SASS that allow you to create reusuable blocks of styles. This is the SASS way of creating a reusable style block."
   ]
  },
  {
   "cell_type": "code",
   "execution_count": null,
   "metadata": {
    "vscode": {
     "languageId": "scss"
    }
   },
   "outputs": [],
   "source": [
    "// Mixins are just like functions. They are declared with the mixin directive and can take arguments\n",
    "@mixin border-radius($radius) {\n",
    "    border-radius: $radius;\n",
    "}\n",
    "// We can use the mixin to reduce complexity in our code\n",
    ".box {\n",
    "    @include border-radius(10px);\n",
    "}"
   ]
  },
  {
   "cell_type": "markdown",
   "metadata": {},
   "source": [
    "## SASS exmaples"
   ]
  },
  {
   "cell_type": "code",
   "execution_count": null,
   "metadata": {
    "vscode": {
     "languageId": "scss"
    }
   },
   "outputs": [],
   "source": [
    "// Variables\n",
    "$primary-font: 'Lobster', cursive;\n",
    "$primary-bg-color: #61c0a8;\n",
    "$secondary-bg-color: #ffffff;\n",
    "$primary-color: white;\n",
    "$secondary-color: #cc0000;\n",
    "$tertiary-color: #ffd700;\n",
    "$th-bg-color: rgb(123, 35, 53);\n",
    "$tbody-bg-color: rgb(182, 49, 80);\n",
    "$border-color: rgb(123, 35, 53);\n",
    "$star-unicode: '\\2605';\n",
    "\n",
    "// Mixins\n",
    "@mixin font-family($font) {\n",
    "font-family: $font !important;\n",
    "}\n",
    "\n",
    "@mixin background($color) {\n",
    "background-color: $color !important;\n",
    "}\n",
    "\n",
    "@mixin text-style($color) {\n",
    "color: $color;\n",
    "}\n",
    "\n",
    "@mixin border($color) {\n",
    "border-color: $color !important;\n",
    "}\n",
    "\n",
    "@mixin box-shadow($shadow-color) {\n",
    "text-shadow: 2px 2px 4px $shadow-color;\n",
    "}\n",
    "\n",
    "@mixin animation($name, $duration, $timing, $iteration) {\n",
    "animation: #{$name} #{$duration} #{$timing} #{$iteration};\n",
    "}\n",
    "\n",
    "// Styles\n",
    "header, footer {\n",
    "@include font-family($primary-font);\n",
    "@include background($primary-bg-color);\n",
    "}\n",
    "\n",
    "body {\n",
    "@include font-family($primary-font);\n",
    "@include background($secondary-bg-color);\n",
    "@include text-style($primary-color);\n",
    "background-image: url('https://images3.alphacoders.com/196/196797.jpg');\n",
    "//filter: blur(8px);\n",
    "}\n",
    "\n",
    ".snow, .snow:before, .snow:after {\n",
    "z-index: -3;\n",
    "position: absolute;\n",
    "top: -650px;\n",
    "left: 0;\n",
    "bottom: 0;\n",
    "right: 0;\n",
    "background-image: \n",
    "    radial-gradient(4px 4px at 100px 50px, #fff , transparent), \n",
    "    radial-gradient(6px 6px at 200px 150px, #fff, transparent), \n",
    "    radial-gradient(3px 3px at 300px 250px, #fff 50%, transparent), \n",
    "    radial-gradient(4px 4px at 400px 350px, #fff 50%, transparent), \n",
    "    radial-gradient(6px 6px at 500px 100px, #fff 50%, transparent), \n",
    "    radial-gradient(3px 3px at 50px 200px, #fff 50%, transparent), \n",
    "    radial-gradient(4px 4px at 150px 300px, #fff 50%, transparent), \n",
    "    radial-gradient(6px 6px at 250px 400px, #fff 50%, transparent), \n",
    "    radial-gradient(3px 3px at 350px 500px, #fff 50%, transparent);\n",
    "background-size: 650px 650px;\n",
    "@include animation(snow, 3s, linear, infinite);\n",
    "content: \"\";\n",
    "}\n",
    "\n",
    ".snow:after {\n",
    "margin-left: -250px;\n",
    "opacity: 0.5;\n",
    "filter: blur(2px);\n",
    "@include animation(snow, 6s, linear, infinite reverse);\n",
    "z-index: -4;\n",
    "}\n",
    "\n",
    ".snow:before {\n",
    "margin-left: -350px;\n",
    "opacity: 0.7;\n",
    "filter: blur(1px);\n",
    "@include animation(snow, 9s, linear, infinite reverse);\n",
    "z-index: -4;\n",
    "}\n",
    "\n",
    "@keyframes snow {\n",
    "to {\n",
    "    transform: translateY(650px);\n",
    "}\n",
    "}\n",
    "\n",
    "th {\n",
    "@include text-style($primary-color);\n",
    "@include background($th-bg-color);\n",
    "@include border($th-bg-color);\n",
    "}\n",
    "\n",
    "ul {\n",
    "@include text-style($primary-color);\n",
    "}\n",
    "\n",
    "tbody, td, tr, table {\n",
    "@include font-family($primary-font);\n",
    "@include text-style($primary-color);\n",
    "@include background($tbody-bg-color);\n",
    "@include border($border-color);\n",
    "}\n",
    "\n",
    "a {\n",
    "@include font-family($primary-font);\n",
    "@include text-style($primary-color);\n",
    "}\n",
    "\n",
    "h2, p {\n",
    "@include font-family($primary-font);\n",
    "@include text-style($primary-color);\n",
    "}\n",
    "\n",
    "h1 {\n",
    "font-size: 36px;\n",
    "@include text-style($secondary-color);\n",
    "text-align: center;\n",
    "text-transform: uppercase;\n",
    "letter-spacing: 2px;\n",
    "margin-bottom: 20px;\n",
    "font-weight: bold;\n",
    "@include box-shadow($primary-color);\n",
    "}\n",
    "\n",
    "h1::before {\n",
    "content: $star-unicode;\n",
    "font-size: 42px;\n",
    "margin-right: 10px;\n",
    "}\n",
    "\n",
    "h1::after {\n",
    "content: $star-unicode;\n",
    "font-size: 42px;\n",
    "margin-left: 10px;\n",
    "}\n",
    "\n",
    "/* Additional styles for a Christmas-themed feel */\n",
    "h1::before, h1::after {\n",
    "display: inline-block;\n",
    "@include animation(twinkling, 1.5s, ease-in-out, infinite);\n",
    "@include text-style($tertiary-color);\n",
    "}\n",
    "\n",
    ".basicChex {\n",
    "@include text-style($primary-color);\n",
    "}\n",
    "\n",
    "/* Animation for a twinkling effect */\n",
    "@keyframes twinkling {\n",
    "0%, 100% { opacity: 1; }\n",
    "50% { opacity: 0.8; }\n",
    "}\n",
    "\n",
    "form {\n",
    "@include text-style($primary-color);\n",
    "}"
   ]
  }
 ],
 "metadata": {
  "language_info": {
   "name": "python"
  }
 },
 "nbformat": 4,
 "nbformat_minor": 2
}
